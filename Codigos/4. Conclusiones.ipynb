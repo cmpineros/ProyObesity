{
 "cells": [
  {
   "cell_type": "markdown",
   "metadata": {},
   "source": [
    "# Conclusiones\n",
    "\n",
    "Una vez obtenidos los resultados de los diferentes modelos de selección así como del análisis exploratorio se puede concluir que:\n",
    "\n",
    "1. Las características cuantitativas obtenidas del conjunto de datos presentan características semejantes que permiten su agrupación en 4 grupos bien definidos mediante el método de k means.\n",
    "\n",
    "2. La reducción de dimensionalidad del conjunto de datos en sus variables numéricas permite interpretar el 59% de la variabilidad del conjunto de datos tomando 3 componentes principales. Aplicar esta reducción de dimensionalidad permite ver que la agrupación esta bien definida tanto en 3 componentes como con el total de variables.\n",
    "\n",
    "3. Teniendo en cuenta que la variable objetivo del dataset es el nivel de obesidad en los individuos, al categorizar en los 7 niveles originales de la variable el modelo con mejor accuracy es el random forest con un accuracy del 0.7689, este modelo es construido con el criterio de gini con una profundidad máxima de 9 y con al menos 2 muestras de la información original en cada rama.\n",
    "\n",
    "4. Las variables más relevantes en el modelo de random forest son: género, si es fumador o no e historial de sobrepeso familiar, por lo cual se puede conluir que factores tanto genéticos como de hábitos alimentcios dentro de los nucleos familiares son de gran influencia en la determinación de la obesidad de acuerdo con los datos suministrados, adicionalmente, el tener hábitos de fumador influye considerablemente en el sobrepeso de las personas. De igual manera se puede intuir que de acuerdo con el género de la persona, los hábitos del mismo cambian, por lo cual toma relevancia los hábitos de vida de hombres y mujeres.\n",
    "\n",
    "5. Para la propuesta opcional tomando la variable respuesta de nivel de obesidad de naturaleza binaria considerando como 1 a cualquier individuo con algún nivel de obesidad y 0 en caso contrario, se obtuvo como mejor modelo una red neuronal cuyo accuracy es del 0.8826, este modelo es construido con una función de activación logística, un $\\alpha$ de 0.1, 30 perceptrones por capa y solver lbfgs.\n",
    "\n",
    "6. Para el caso de la red neuronal, se cuenta con las variables con influencia positiva, es decir, que influyen en la clasificación de obesidad a: FAPC, edad, y si usa transporte público, mientras que las variables con influencia negativa, es decir, que influyen en la clasificación de no obesidad son: Si camina, si fuma e historial de obesidad familiar.\n",
    "\n",
    "7. Se puede ver que los resultados con un modelo de respuesta binaria son mejores que el modelo con los 7 niveles de obesidad, lo cual puede ser intuitivo en cuanto a que es más sencillo generar agrupaciones en 2 grandes grupos frente a la categorización más especifica en varios niveles."
   ]
  }
 ],
 "metadata": {
  "language_info": {
   "name": "python"
  }
 },
 "nbformat": 4,
 "nbformat_minor": 2
}
